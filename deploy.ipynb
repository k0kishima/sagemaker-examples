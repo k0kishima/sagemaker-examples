{
 "cells": [
  {
   "cell_type": "code",
   "execution_count": null,
   "metadata": {},
   "outputs": [],
   "source": [
    "!pip install sagemaker boto3 scikit-learn\n",
    "\n",
    "import sagemaker\n",
    "from sagemaker import get_execution_role\n",
    "from sagemaker.sklearn import SKLearnModel\n",
    "import boto3\n",
    "\n",
    "sagemaker_session = sagemaker.Session()\n",
    "\n",
    "role = get_execution_role()\n",
    "\n",
    "s3_bucket = 'REPLACE_WITH_S3_BUCKET_NAME'\n",
    "model_file_name = 'REPLACE_WITH_MODEL_BASE_NAME.joblib'\n",
    "model_s3_path = f's3://{s3_bucket}/models/{model_file_name}'\n",
    "\n",
    "sklearn_model = SKLearnModel(\n",
    "    model_data=model_s3_path,\n",
    "    role=role,\n",
    "    entry_point='inference.py',\n",
    "    framework_version='0.23-1'\n",
    ")\n",
    "\n",
    "predictor = sklearn_model.deploy(\n",
    "    initial_instance_count=1,\n",
    "    instance_type='ml.t2.medium',\n",
    "    endpoint_name='titanic-survival-prediction-endpoint'\n",
    ")\n",
    "\n",
    "endpoint_name = predictor.endpoint_name\n",
    "region = boto3.Session().region_name\n",
    "endpoint_url = f\"https://runtime.sagemaker.{region}.amazonaws.com/endpoints/{endpoint_name}/invocations\"\n",
    "print(f\"Endpoint URL: {endpoint_url}\")\n"
   ]
  }
 ],
 "metadata": {
  "language_info": {
   "name": "python"
  }
 },
 "nbformat": 4,
 "nbformat_minor": 2
}
